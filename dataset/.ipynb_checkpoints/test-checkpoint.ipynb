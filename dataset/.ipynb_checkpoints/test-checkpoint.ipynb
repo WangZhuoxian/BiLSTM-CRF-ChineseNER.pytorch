{
 "cells": [
  {
   "cell_type": "code",
   "execution_count": 14,
   "metadata": {},
   "outputs": [
    {
     "name": "stdout",
     "output_type": "stream",
     "text": [
      "[]\n"
     ]
    }
   ],
   "source": [
    "def read_corpus(corpus_path, label_path):\n",
    "    data = []\n",
    "\n",
    "    with open(corpus_path, encoding='utf-8') as fr:\n",
    "        lines_co = fr.readlines()\n",
    "    with open(label_path) as fl:\n",
    "        lines_lb = fl.readlines()\n",
    "    sent_, tag_ = [], []\n",
    "    for line_co, line_lb in zip(lines_co, lines_lb):\n",
    "        if line_co != '\\n' and line_lb != '\\n':\n",
    "            char = line_co.strip()\n",
    "            label = line_lb.strip()\n",
    "            sent_.append(char)\n",
    "            tag_.append(label)\n",
    "        else:\n",
    "            data.append((sent_, tag_))\n",
    "            sent_, tag_ = [], []\n",
    "\n",
    "    return data\n",
    "\n",
    "data = read_corpus('test_data.txt', 'test_label.txt')\n",
    "print(data)"
   ]
  },
  {
   "cell_type": "code",
   "execution_count": null,
   "metadata": {},
   "outputs": [],
   "source": []
  }
 ],
 "metadata": {
  "kernelspec": {
   "display_name": "Python 3",
   "language": "python",
   "name": "python3"
  },
  "language_info": {
   "codemirror_mode": {
    "name": "ipython",
    "version": 3
   },
   "file_extension": ".py",
   "mimetype": "text/x-python",
   "name": "python",
   "nbconvert_exporter": "python",
   "pygments_lexer": "ipython3",
   "version": "3.7.0"
  }
 },
 "nbformat": 4,
 "nbformat_minor": 2
}
